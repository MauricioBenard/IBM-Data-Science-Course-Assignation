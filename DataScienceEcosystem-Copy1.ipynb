{
 "cells": [
  {
   "cell_type": "markdown",
   "id": "12335622",
   "metadata": {},
   "source": [
    "# Data Science Tools and Ecosystem"
   ]
  },
  {
   "cell_type": "markdown",
   "id": "59cfe6ee",
   "metadata": {},
   "source": [
    "## In this notebook, we delve into the cutting-edge Data Science Tools and Ecosystem that power our Organization's innovation"
   ]
  },
  {
   "cell_type": "markdown",
   "id": "be3dbfeb",
   "metadata": {},
   "source": [
    "### Data Scientists frequently utilize languages such as: "
   ]
  },
  {
   "cell_type": "markdown",
   "id": "5f2047c8",
   "metadata": {},
   "source": [
    "1.Python: Known for its simplicity and extensive libraries like Pandas, NumPy, and Scikit-learn.\n",
    "    \n",
    "2.R: Popular for statistical analysis and data visualization.\n",
    "    \n",
    "3.SQL: Essential for database management and querying.\n",
    "    \n",
    "4.Java: Used for large-scale data processing and machine learning.\n",
    "    \n",
    "5.Julia: Gaining popularity for its high performance in numerical and scientific computing."
   ]
  },
  {
   "cell_type": "markdown",
   "id": "2c3967cd",
   "metadata": {},
   "source": [
    "### Data Scientists often leverage a suite of popular libraries, such as:"
   ]
  },
  {
   "cell_type": "markdown",
   "id": "ee7b7eca",
   "metadata": {},
   "source": [
    "1.NumPy: Essential for numerical computations and handling arrays.\n",
    "    \n",
    "2.Pandas: Great for data manipulation and analysis.\n",
    "    \n",
    "3.Matplotlib: Widely used for creating static, animated, and interactive visualizations.\n",
    "    \n",
    "4.Seaborn: Built on top of Matplotlib, it provides a high-level interface for drawing attractive statistical graphics.\n",
    "    \n",
    "5.Scikit-learn: A go-to library for machine learning, offering simple and efficient tools for data mining and data analysis.\n",
    "    \n",
    "6.TensorFlow: An open-source platform for machine learning, particularly deep learning.\n",
    "    \n",
    "7.Keras: A high-level neural networks API, written in Python and capable of running on top of TensorFlow.\n",
    "    \n",
    "8.PyTorch: Another deep learning framework that provides flexibility and speed."
   ]
  },
  {
   "cell_type": "markdown",
   "id": "e54ec5a2",
   "metadata": {},
   "source": [
    "|  Data Science Tools|\n",
    "|-----------------------|\n",
    "| Jupyter Notebook |\n",
    "| Apache Spark |\n",
    "| R Studio |\n",
    "| Knime | \n",
    "| Weka |\n"
   ]
  },
  {
   "cell_type": "markdown",
   "id": "96f7b42e",
   "metadata": {},
   "source": [
    "### Here are several instances of executing arithmetic computations in Python"
   ]
  },
  {
   "cell_type": "code",
   "execution_count": 4,
   "id": "219f7674",
   "metadata": {},
   "outputs": [
    {
     "data": {
      "text/plain": [
       "17"
      ]
     },
     "execution_count": 4,
     "metadata": {},
     "output_type": "execute_result"
    }
   ],
   "source": [
    "# This is a simple arithmetic expression to multiply then add integers\n",
    "result = (3 * 4) + 5\n",
    "result"
   ]
  },
  {
   "cell_type": "code",
   "execution_count": 5,
   "id": "1b504d20",
   "metadata": {},
   "outputs": [
    {
     "data": {
      "text/plain": [
       "3.3333333333333335"
      ]
     },
     "execution_count": 5,
     "metadata": {},
     "output_type": "execute_result"
    }
   ],
   "source": [
    "# This will convert 200 minutes to hours by dividing by 60\n",
    "hours = 200 / 60\n",
    "hours"
   ]
  },
  {
   "cell_type": "markdown",
   "id": "758bedb1",
   "metadata": {},
   "source": [
    "**Objectives:**\n",
    "\n",
    "- List popular languages for Data Science\n",
    "- Demonstrate basic arithmetic operations in Python\n",
    "- Convert units of time (minutes to hours)\n",
    "- Explain the importance of comments in code\n",
    "- Showcase the use of markdown cells for documentation"
   ]
  },
  {
   "cell_type": "markdown",
   "id": "9746ac45",
   "metadata": {},
   "source": [
    "## Author\n",
    "Mauricio Benard"
   ]
  },
  {
   "cell_type": "code",
   "execution_count": null,
   "id": "d633b7ed",
   "metadata": {},
   "outputs": [],
   "source": []
  }
 ],
 "metadata": {
  "kernelspec": {
   "display_name": "Python 3 (ipykernel)",
   "language": "python",
   "name": "python3"
  },
  "language_info": {
   "codemirror_mode": {
    "name": "ipython",
    "version": 3
   },
   "file_extension": ".py",
   "mimetype": "text/x-python",
   "name": "python",
   "nbconvert_exporter": "python",
   "pygments_lexer": "ipython3",
   "version": "3.11.5"
  }
 },
 "nbformat": 4,
 "nbformat_minor": 5
}
